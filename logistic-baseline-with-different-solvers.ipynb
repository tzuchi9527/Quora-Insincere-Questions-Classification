{
  "cells": [
    {
      "metadata": {
        "_uuid": "c48ba3836f03bcecc9b461d343a2b866dcebae6b"
      },
      "cell_type": "markdown",
      "source": "### Object:\nThe goal of this notebook is to explore the dataset and build a baseline model by using different optimization method (solver).\n\n### Reference:\n1. https://www.kaggle.com/sudalairajkumar/simple-exploration-notebook-qiqc\n2. https://www.kaggle.com/sudalairajkumar/simple-feature-engg-notebook-spooky-author\n"
    },
    {
      "metadata": {
        "_uuid": "8f2839f25d086af736a60e9eeb907d3b93b6e0e5",
        "_cell_guid": "b1076dfc-b9ad-4769-8c92-a6c4dae69d19",
        "trusted": true
      },
      "cell_type": "code",
      "source": "# This Python 3 environment comes with many helpful analytics libraries installed\n# It is defined by the kaggle/python docker image: https://github.com/kaggle/docker-python\n# For example, here's several helpful packages to load in \n\nimport numpy as np # linear algebra\nimport pandas as pd # data processing, CSV file I/O (e.g. pd.read_csv)\nimport string\n# Input data files are available in the \"../input/\" directory.\n# For example, running this (by clicking run or pressing Shift+Enter) will list the files in the input directory\n\nimport os\nprint(os.listdir(\"../input\"))\n\n# Any results you write to the current directory are saved as output.",
      "execution_count": 1,
      "outputs": [
        {
          "output_type": "stream",
          "text": "['embeddings', 'sample_submission.csv', 'test.csv', 'train.csv']\n",
          "name": "stdout"
        }
      ]
    },
    {
      "metadata": {
        "_cell_guid": "79c7e3d0-c299-4dcb-8224-4455121ee9b0",
        "_uuid": "d629ff2d2480ee46fbb7e2d37f6b5fab8052498a",
        "trusted": true
      },
      "cell_type": "code",
      "source": "from sklearn import model_selection, preprocessing, metrics, ensemble, naive_bayes, linear_model\nfrom sklearn.feature_extraction.text import TfidfVectorizer, CountVectorizer\nfrom sklearn.decomposition import TruncatedSVD\nfrom sklearn.metrics import f1_score\nimport lightgbm as lgb",
      "execution_count": 2,
      "outputs": []
    },
    {
      "metadata": {
        "trusted": true,
        "_uuid": "b5c8e15a8eccc8d009b9b9512bb27ee0f6df5168"
      },
      "cell_type": "code",
      "source": "train_df = pd.read_csv(\"../input/train.csv\")\ntest_df = pd.read_csv(\"../input/test.csv\")\nprint(\"Train shape : \", train_df.shape)\nprint(\"Test shape : \", test_df.shape)",
      "execution_count": 3,
      "outputs": [
        {
          "output_type": "stream",
          "text": "Train shape :  (1306122, 3)\nTest shape :  (375806, 2)\n",
          "name": "stdout"
        }
      ]
    },
    {
      "metadata": {
        "trusted": true,
        "_uuid": "2fef2066430cf1f425678605d69b96eab4334bd7"
      },
      "cell_type": "code",
      "source": "train_df.head()",
      "execution_count": 4,
      "outputs": [
        {
          "output_type": "execute_result",
          "execution_count": 4,
          "data": {
            "text/plain": "                    qid  ...   target\n0  00002165364db923c7e6  ...        0\n1  000032939017120e6e44  ...        0\n2  0000412ca6e4628ce2cf  ...        0\n3  000042bf85aa498cd78e  ...        0\n4  0000455dfa3e01eae3af  ...        0\n\n[5 rows x 3 columns]",
            "text/html": "<div>\n<style scoped>\n    .dataframe tbody tr th:only-of-type {\n        vertical-align: middle;\n    }\n\n    .dataframe tbody tr th {\n        vertical-align: top;\n    }\n\n    .dataframe thead th {\n        text-align: right;\n    }\n</style>\n<table border=\"1\" class=\"dataframe\">\n  <thead>\n    <tr style=\"text-align: right;\">\n      <th></th>\n      <th>qid</th>\n      <th>question_text</th>\n      <th>target</th>\n    </tr>\n  </thead>\n  <tbody>\n    <tr>\n      <th>0</th>\n      <td>00002165364db923c7e6</td>\n      <td>How did Quebec nationalists see their province...</td>\n      <td>0</td>\n    </tr>\n    <tr>\n      <th>1</th>\n      <td>000032939017120e6e44</td>\n      <td>Do you have an adopted dog, how would you enco...</td>\n      <td>0</td>\n    </tr>\n    <tr>\n      <th>2</th>\n      <td>0000412ca6e4628ce2cf</td>\n      <td>Why does velocity affect time? Does velocity a...</td>\n      <td>0</td>\n    </tr>\n    <tr>\n      <th>3</th>\n      <td>000042bf85aa498cd78e</td>\n      <td>How did Otto von Guericke used the Magdeburg h...</td>\n      <td>0</td>\n    </tr>\n    <tr>\n      <th>4</th>\n      <td>0000455dfa3e01eae3af</td>\n      <td>Can I convert montra helicon D to a mountain b...</td>\n      <td>0</td>\n    </tr>\n  </tbody>\n</table>\n</div>"
          },
          "metadata": {}
        }
      ]
    },
    {
      "metadata": {
        "_uuid": "f0b3e31e0f6464fbce221ea89bcbd991dff24fbd"
      },
      "cell_type": "markdown",
      "source": "## Data distribution"
    },
    {
      "metadata": {
        "trusted": true,
        "_uuid": "2bd662baa750cac6576d5eb7df9c9bf87d4fc41b"
      },
      "cell_type": "code",
      "source": "cnt_pos = train_df[train_df['target'] == 1].count()[0]\ncnt_neg = train_df[train_df['target'] == 0].count()[0]\nprint('There are %d insincere questions and %d sincere questions.' % (cnt_pos, cnt_neg))\nprint('%f percents of questions are insincere.' %(cnt_pos/(cnt_pos+cnt_neg)*100))",
      "execution_count": 5,
      "outputs": [
        {
          "output_type": "stream",
          "text": "There are 80810 insincere questions and 1225312 sincere questions.\n6.187018 percents of questions are insincere.\n",
          "name": "stdout"
        }
      ]
    },
    {
      "metadata": {
        "_uuid": "d1c8ddac3977960395ec52f9d25a7410460e626d"
      },
      "cell_type": "markdown",
      "source": "**Meta Features:**\n\nNow let us create some meta features and then look at how they are distributed between the classes. The ones that we will create are\n1. Number of words in the text\n2. Number of unique words in the text\n3. Number of characters in the text\n4. Number of stopwords\n5. Number of punctuations\n6. Number of upper case words\n7. Number of title case words\n8. Average length of the words"
    },
    {
      "metadata": {
        "trusted": true,
        "_uuid": "34cff983697e547cf4c61725b0531a38ad93ecc9"
      },
      "cell_type": "code",
      "source": "from nltk.corpus import stopwords\nSTOPWORDS = set(stopwords.words('english'))\n\n## Number of words in the text ##\ntrain_df[\"num_words\"] = train_df[\"question_text\"].apply(lambda x: len(str(x).split()))\ntest_df[\"num_words\"] = test_df[\"question_text\"].apply(lambda x: len(str(x).split()))\n\n## Number of unique words in the text ##\ntrain_df[\"num_unique_words\"] = train_df[\"question_text\"].apply(lambda x: len(set(str(x).split())))\ntest_df[\"num_unique_words\"] = test_df[\"question_text\"].apply(lambda x: len(set(str(x).split())))\n\n## Number of characters in the text ##\ntrain_df[\"num_chars\"] = train_df[\"question_text\"].apply(lambda x: len(str(x)))\ntest_df[\"num_chars\"] = test_df[\"question_text\"].apply(lambda x: len(str(x)))\n\n## Number of stopwords in the text ##\ntrain_df[\"num_stopwords\"] = train_df[\"question_text\"].apply(lambda x: len([w for w in str(x).lower().split() if w in STOPWORDS]))\ntest_df[\"num_stopwords\"] = test_df[\"question_text\"].apply(lambda x: len([w for w in str(x).lower().split() if w in STOPWORDS]))\n\n## Number of punctuations in the text ##\ntrain_df[\"num_punctuations\"] =train_df['question_text'].apply(lambda x: len([c for c in str(x) if c in string.punctuation]) )\ntest_df[\"num_punctuations\"] =test_df['question_text'].apply(lambda x: len([c for c in str(x) if c in string.punctuation]) )\n\n## Number of title case words in the text ##\ntrain_df[\"num_words_upper\"] = train_df[\"question_text\"].apply(lambda x: len([w for w in str(x).split() if w.isupper()]))\ntest_df[\"num_words_upper\"] = test_df[\"question_text\"].apply(lambda x: len([w for w in str(x).split() if w.isupper()]))\n\n## Number of title case words in the text ##\ntrain_df[\"num_words_title\"] = train_df[\"question_text\"].apply(lambda x: len([w for w in str(x).split() if w.istitle()]))\ntest_df[\"num_words_title\"] = test_df[\"question_text\"].apply(lambda x: len([w for w in str(x).split() if w.istitle()]))\n\n## Average length of the words in the text ##\ntrain_df[\"mean_word_len\"] = train_df[\"question_text\"].apply(lambda x: np.mean([len(w) for w in str(x).split()]))\ntest_df[\"mean_word_len\"] = test_df[\"question_text\"].apply(lambda x: np.mean([len(w) for w in str(x).split()]))",
      "execution_count": 6,
      "outputs": []
    },
    {
      "metadata": {
        "trusted": true,
        "_uuid": "ea0e8229fe5900ce1ddea13ea346263203229712"
      },
      "cell_type": "code",
      "source": "## Truncate some extreme values for better visuals ##\ntrain_df['num_words'].loc[train_df['num_words']>60] = 60 #truncation for better visuals\ntrain_df['num_punctuations'].loc[train_df['num_punctuations']>10] = 10 #truncation for better visuals\ntrain_df['num_chars'].loc[train_df['num_chars']>350] = 350 #truncation for better visuals",
      "execution_count": 7,
      "outputs": [
        {
          "output_type": "stream",
          "text": "/opt/conda/lib/python3.6/site-packages/pandas/core/indexing.py:189: SettingWithCopyWarning: \nA value is trying to be set on a copy of a slice from a DataFrame\n\nSee the caveats in the documentation: http://pandas.pydata.org/pandas-docs/stable/indexing.html#indexing-view-versus-copy\n  self._setitem_with_indexer(indexer, value)\n",
          "name": "stderr"
        }
      ]
    },
    {
      "metadata": {
        "trusted": true,
        "_uuid": "787c6406bd9a4e7b0b1d832aa083454a1329a080"
      },
      "cell_type": "code",
      "source": "train_df.head()",
      "execution_count": 8,
      "outputs": [
        {
          "output_type": "execute_result",
          "execution_count": 8,
          "data": {
            "text/plain": "                    qid      ...      mean_word_len\n0  00002165364db923c7e6      ...           4.615385\n1  000032939017120e6e44      ...           4.125000\n2  0000412ca6e4628ce2cf      ...           5.800000\n3  000042bf85aa498cd78e      ...           5.444444\n4  0000455dfa3e01eae3af      ...           4.200000\n\n[5 rows x 11 columns]",
            "text/html": "<div>\n<style scoped>\n    .dataframe tbody tr th:only-of-type {\n        vertical-align: middle;\n    }\n\n    .dataframe tbody tr th {\n        vertical-align: top;\n    }\n\n    .dataframe thead th {\n        text-align: right;\n    }\n</style>\n<table border=\"1\" class=\"dataframe\">\n  <thead>\n    <tr style=\"text-align: right;\">\n      <th></th>\n      <th>qid</th>\n      <th>question_text</th>\n      <th>target</th>\n      <th>num_words</th>\n      <th>num_unique_words</th>\n      <th>num_chars</th>\n      <th>num_stopwords</th>\n      <th>num_punctuations</th>\n      <th>num_words_upper</th>\n      <th>num_words_title</th>\n      <th>mean_word_len</th>\n    </tr>\n  </thead>\n  <tbody>\n    <tr>\n      <th>0</th>\n      <td>00002165364db923c7e6</td>\n      <td>How did Quebec nationalists see their province...</td>\n      <td>0</td>\n      <td>13</td>\n      <td>13</td>\n      <td>72</td>\n      <td>7</td>\n      <td>1</td>\n      <td>0</td>\n      <td>2</td>\n      <td>4.615385</td>\n    </tr>\n    <tr>\n      <th>1</th>\n      <td>000032939017120e6e44</td>\n      <td>Do you have an adopted dog, how would you enco...</td>\n      <td>0</td>\n      <td>16</td>\n      <td>15</td>\n      <td>81</td>\n      <td>9</td>\n      <td>2</td>\n      <td>0</td>\n      <td>1</td>\n      <td>4.125000</td>\n    </tr>\n    <tr>\n      <th>2</th>\n      <td>0000412ca6e4628ce2cf</td>\n      <td>Why does velocity affect time? Does velocity a...</td>\n      <td>0</td>\n      <td>10</td>\n      <td>8</td>\n      <td>67</td>\n      <td>3</td>\n      <td>2</td>\n      <td>0</td>\n      <td>2</td>\n      <td>5.800000</td>\n    </tr>\n    <tr>\n      <th>3</th>\n      <td>000042bf85aa498cd78e</td>\n      <td>How did Otto von Guericke used the Magdeburg h...</td>\n      <td>0</td>\n      <td>9</td>\n      <td>9</td>\n      <td>57</td>\n      <td>3</td>\n      <td>1</td>\n      <td>0</td>\n      <td>4</td>\n      <td>5.444444</td>\n    </tr>\n    <tr>\n      <th>4</th>\n      <td>0000455dfa3e01eae3af</td>\n      <td>Can I convert montra helicon D to a mountain b...</td>\n      <td>0</td>\n      <td>15</td>\n      <td>15</td>\n      <td>77</td>\n      <td>8</td>\n      <td>1</td>\n      <td>2</td>\n      <td>3</td>\n      <td>4.200000</td>\n    </tr>\n  </tbody>\n</table>\n</div>"
          },
          "metadata": {}
        }
      ]
    },
    {
      "metadata": {
        "_uuid": "c5df847b1005fb9a10d9c480a149e54bb7f13755"
      },
      "cell_type": "markdown",
      "source": "### Baseline model"
    },
    {
      "metadata": {
        "trusted": true,
        "_uuid": "f77a2065064cfdb1c2b1e2d4a7f38cc1928d7ec4"
      },
      "cell_type": "code",
      "source": "train_text = train_df['question_text']\ntest_text = test_df['question_text']\nall_text = pd.concat([train_text, test_text])\n\n# Get the tfidf vectors #\ntfidf_vec = TfidfVectorizer(\n    sublinear_tf=True,\n    strip_accents='unicode',\n    analyzer='word',\n    token_pattern=r'\\w{1,}',\n    stop_words='english',\n    ngram_range=(1, 3),\n    max_features=5000)\ntfidf_vec.fit_transform(all_text)\ntrain_tfidf = tfidf_vec.transform(train_text)\ntest_tfidf = tfidf_vec.transform(test_text)",
      "execution_count": 9,
      "outputs": []
    },
    {
      "metadata": {
        "trusted": true,
        "_uuid": "dcba54a202b727085780dd8a7b72d78c8afce701"
      },
      "cell_type": "code",
      "source": "features = ['num_words', 'num_unique_words', 'num_chars', \n                'num_stopwords', 'num_punctuations', 'num_words_upper', \n                'num_words_title', 'mean_word_len']\n\ntrain_ = train_df[features]\ntrain_.head()",
      "execution_count": 10,
      "outputs": [
        {
          "output_type": "execute_result",
          "execution_count": 10,
          "data": {
            "text/plain": "   num_words  num_unique_words      ...        num_words_title  mean_word_len\n0         13                13      ...                      2       4.615385\n1         16                15      ...                      1       4.125000\n2         10                 8      ...                      2       5.800000\n3          9                 9      ...                      4       5.444444\n4         15                15      ...                      3       4.200000\n\n[5 rows x 8 columns]",
            "text/html": "<div>\n<style scoped>\n    .dataframe tbody tr th:only-of-type {\n        vertical-align: middle;\n    }\n\n    .dataframe tbody tr th {\n        vertical-align: top;\n    }\n\n    .dataframe thead th {\n        text-align: right;\n    }\n</style>\n<table border=\"1\" class=\"dataframe\">\n  <thead>\n    <tr style=\"text-align: right;\">\n      <th></th>\n      <th>num_words</th>\n      <th>num_unique_words</th>\n      <th>num_chars</th>\n      <th>num_stopwords</th>\n      <th>num_punctuations</th>\n      <th>num_words_upper</th>\n      <th>num_words_title</th>\n      <th>mean_word_len</th>\n    </tr>\n  </thead>\n  <tbody>\n    <tr>\n      <th>0</th>\n      <td>13</td>\n      <td>13</td>\n      <td>72</td>\n      <td>7</td>\n      <td>1</td>\n      <td>0</td>\n      <td>2</td>\n      <td>4.615385</td>\n    </tr>\n    <tr>\n      <th>1</th>\n      <td>16</td>\n      <td>15</td>\n      <td>81</td>\n      <td>9</td>\n      <td>2</td>\n      <td>0</td>\n      <td>1</td>\n      <td>4.125000</td>\n    </tr>\n    <tr>\n      <th>2</th>\n      <td>10</td>\n      <td>8</td>\n      <td>67</td>\n      <td>3</td>\n      <td>2</td>\n      <td>0</td>\n      <td>2</td>\n      <td>5.800000</td>\n    </tr>\n    <tr>\n      <th>3</th>\n      <td>9</td>\n      <td>9</td>\n      <td>57</td>\n      <td>3</td>\n      <td>1</td>\n      <td>0</td>\n      <td>4</td>\n      <td>5.444444</td>\n    </tr>\n    <tr>\n      <th>4</th>\n      <td>15</td>\n      <td>15</td>\n      <td>77</td>\n      <td>8</td>\n      <td>1</td>\n      <td>2</td>\n      <td>3</td>\n      <td>4.200000</td>\n    </tr>\n  </tbody>\n</table>\n</div>"
          },
          "metadata": {}
        }
      ]
    },
    {
      "metadata": {
        "trusted": true,
        "_uuid": "b5caa9d5f65f12e68b4ba4352981be30cf22e96b"
      },
      "cell_type": "code",
      "source": "from scipy.sparse import hstack, csr_matrix\ntrain_ = hstack((csr_matrix(train_), train_tfidf))\nprint(train_.shape)",
      "execution_count": 11,
      "outputs": [
        {
          "output_type": "stream",
          "text": "(1306122, 5008)\n",
          "name": "stdout"
        }
      ]
    },
    {
      "metadata": {
        "trusted": true,
        "_uuid": "6f1653996f2ed7468bb8d0ad868b3f41a2e6ccc6"
      },
      "cell_type": "code",
      "source": "test_ = test_df[features]\ntest_ = hstack((csr_matrix(test_), test_tfidf))\nprint(test_.shape)",
      "execution_count": 12,
      "outputs": [
        {
          "output_type": "stream",
          "text": "(375806, 5008)\n",
          "name": "stdout"
        }
      ]
    },
    {
      "metadata": {
        "trusted": true,
        "_uuid": "045ebc056bd001af0546c44b3719b52aae5ac04c"
      },
      "cell_type": "code",
      "source": "train_y = train_df[\"target\"].values\n\nx_train, x_val, y_train, y_val = model_selection.train_test_split(train_, train_y, test_size=0.2, random_state=42)\n\nprint(x_train.shape, x_val.shape)",
      "execution_count": 13,
      "outputs": [
        {
          "output_type": "stream",
          "text": "(1044897, 5008) (261225, 5008)\n",
          "name": "stdout"
        }
      ]
    },
    {
      "metadata": {
        "trusted": true,
        "_uuid": "957aa1a29df9fc7c092bed5e139c923288f91c20"
      },
      "cell_type": "code",
      "source": "model = linear_model.LogisticRegression(C=5., solver='saga')\nmodel.fit(x_train, y_train)\npred_y_val = model.predict_proba(x_val)[:,1]\n\nbest_f1 = 0\nbest_threshold = 0\nfor threshold in np.arange(0.1, 0.201, 0.01):\n    f1 = f1_score(y_val, (pred_y_val>threshold).astype(int))\n    if f1 > best_f1:\n        best_f1 = f1\n        best_threshold = threshold\nprint('Best threshold is %f and f1 is %f' %(best_threshold, best_f1))",
      "execution_count": 14,
      "outputs": [
        {
          "output_type": "stream",
          "text": "/opt/conda/lib/python3.6/site-packages/sklearn/linear_model/sag.py:334: ConvergenceWarning: The max_iter was reached which means the coef_ did not converge\n  \"the coef_ did not converge\", ConvergenceWarning)\n",
          "name": "stderr"
        },
        {
          "output_type": "stream",
          "text": "Best threshold is 0.110000 and f1 is 0.354914\n",
          "name": "stdout"
        }
      ]
    },
    {
      "metadata": {
        "trusted": true,
        "_uuid": "fa82c45ab0ef440ff2e0b92c70a2bfe7b170e863"
      },
      "cell_type": "code",
      "source": "def runModel(x_train, x_val, y_train, solver):\n    model = linear_model.LogisticRegression(C=5., solver=solver)\n    model.fit(x_train, y_train)\n    pred_y_val = model.predict_proba(x_val)[:,1]\n    return model, pred_y_val\n\nsolver = ['sag', 'saga', 'newton-cg', 'lbfgs', 'liblinear']\nmodel_final = None\nbest_f1 = 0\nfor solve in solver:\n    model, pred_y_val = runModel(x_train, x_val, y_train, solve)\n    f1 = f1_score(y_val, (pred_y_val>best_threshold).astype(int))\n    if f1 > best_f1:\n        best_f1 = f1\n        model_final = model\n    print('%s solver has f1 score %f' %(solve, f1))",
      "execution_count": 15,
      "outputs": [
        {
          "output_type": "stream",
          "text": "/opt/conda/lib/python3.6/site-packages/sklearn/linear_model/sag.py:334: ConvergenceWarning: The max_iter was reached which means the coef_ did not converge\n  \"the coef_ did not converge\", ConvergenceWarning)\n",
          "name": "stderr"
        },
        {
          "output_type": "stream",
          "text": "sag solver has f1 score 0.407154\nsaga solver has f1 score 0.354859\nnewton-cg solver has f1 score 0.521055\n",
          "name": "stdout"
        },
        {
          "output_type": "stream",
          "text": "/opt/conda/lib/python3.6/site-packages/sklearn/linear_model/logistic.py:758: ConvergenceWarning: lbfgs failed to converge. Increase the number of iterations.\n  \"of iterations.\", ConvergenceWarning)\n",
          "name": "stderr"
        },
        {
          "output_type": "stream",
          "text": "lbfgs solver has f1 score 0.418541\nliblinear solver has f1 score 0.522287\n",
          "name": "stdout"
        }
      ]
    },
    {
      "metadata": {
        "trusted": true,
        "_uuid": "8bcb35c7bc4822f51e1c7505d967bf876a2ac762"
      },
      "cell_type": "code",
      "source": "## use whole training set to train\nmodel_final.fit(train_, train_y)",
      "execution_count": 16,
      "outputs": [
        {
          "output_type": "execute_result",
          "execution_count": 16,
          "data": {
            "text/plain": "LogisticRegression(C=5.0, class_weight=None, dual=False, fit_intercept=True,\n          intercept_scaling=1, max_iter=100, multi_class='warn',\n          n_jobs=None, penalty='l2', random_state=None, solver='liblinear',\n          tol=0.0001, verbose=0, warm_start=False)"
          },
          "metadata": {}
        }
      ]
    },
    {
      "metadata": {
        "trusted": true,
        "_uuid": "fd721788522933965984297f832a327db6363049"
      },
      "cell_type": "code",
      "source": "pred_test_y = model_final.predict_proba(test_)[:,1]\nsubmit_df = pd.DataFrame({\"qid\": test_df[\"qid\"], \"prediction\": (pred_test_y > best_threshold).astype(np.int)})\nsubmit_df.head()",
      "execution_count": 17,
      "outputs": [
        {
          "output_type": "execute_result",
          "execution_count": 17,
          "data": {
            "text/plain": "                    qid  prediction\n0  0000163e3ea7c7a74cd7           1\n1  00002bd4fb5d505b9161           0\n2  00007756b4a147d2b0b3           0\n3  000086e4b7e1c7146103           0\n4  0000c4c3fbe8785a3090           0",
            "text/html": "<div>\n<style scoped>\n    .dataframe tbody tr th:only-of-type {\n        vertical-align: middle;\n    }\n\n    .dataframe tbody tr th {\n        vertical-align: top;\n    }\n\n    .dataframe thead th {\n        text-align: right;\n    }\n</style>\n<table border=\"1\" class=\"dataframe\">\n  <thead>\n    <tr style=\"text-align: right;\">\n      <th></th>\n      <th>qid</th>\n      <th>prediction</th>\n    </tr>\n  </thead>\n  <tbody>\n    <tr>\n      <th>0</th>\n      <td>0000163e3ea7c7a74cd7</td>\n      <td>1</td>\n    </tr>\n    <tr>\n      <th>1</th>\n      <td>00002bd4fb5d505b9161</td>\n      <td>0</td>\n    </tr>\n    <tr>\n      <th>2</th>\n      <td>00007756b4a147d2b0b3</td>\n      <td>0</td>\n    </tr>\n    <tr>\n      <th>3</th>\n      <td>000086e4b7e1c7146103</td>\n      <td>0</td>\n    </tr>\n    <tr>\n      <th>4</th>\n      <td>0000c4c3fbe8785a3090</td>\n      <td>0</td>\n    </tr>\n  </tbody>\n</table>\n</div>"
          },
          "metadata": {}
        }
      ]
    },
    {
      "metadata": {
        "trusted": true,
        "_uuid": "9ebcd2626817fade5294e1fc58f1613f1194c0bf"
      },
      "cell_type": "code",
      "source": "submit_df['prediction'].value_counts()",
      "execution_count": 18,
      "outputs": [
        {
          "output_type": "execute_result",
          "execution_count": 18,
          "data": {
            "text/plain": "0    329205\n1     46601\nName: prediction, dtype: int64"
          },
          "metadata": {}
        }
      ]
    },
    {
      "metadata": {
        "trusted": true,
        "_uuid": "3a0e0c1da3707150f83a420cdfb2e00ae0c5ebd7"
      },
      "cell_type": "code",
      "source": "submit_df.to_csv(\"submission.csv\", index=False)",
      "execution_count": null,
      "outputs": []
    },
    {
      "metadata": {
        "trusted": true,
        "_uuid": "fbca7a3dd4429d98de099525ae3d8c3cad6cd48e"
      },
      "cell_type": "code",
      "source": "",
      "execution_count": null,
      "outputs": []
    }
  ],
  "metadata": {
    "kernelspec": {
      "display_name": "Python 3",
      "language": "python",
      "name": "python3"
    },
    "language_info": {
      "name": "python",
      "version": "3.6.6",
      "mimetype": "text/x-python",
      "codemirror_mode": {
        "name": "ipython",
        "version": 3
      },
      "pygments_lexer": "ipython3",
      "nbconvert_exporter": "python",
      "file_extension": ".py"
    }
  },
  "nbformat": 4,
  "nbformat_minor": 1
}